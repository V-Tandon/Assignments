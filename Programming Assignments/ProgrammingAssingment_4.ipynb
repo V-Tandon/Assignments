{
 "cells": [
  {
   "cell_type": "markdown",
   "id": "72c0b391",
   "metadata": {},
   "source": [
    "## Programming Assignment 4\n"
   ]
  },
  {
   "cell_type": "markdown",
   "id": "8544e695",
   "metadata": {},
   "source": [
    "### 1.\tWrite a Python Program to Find the Factorial of a Number?"
   ]
  },
  {
   "cell_type": "code",
   "execution_count": 35,
   "id": "2ae1171f",
   "metadata": {},
   "outputs": [
    {
     "name": "stdout",
     "output_type": "stream",
     "text": [
      "Enter a number: 7\n",
      "The factorial of 7 is 5040\n"
     ]
    }
   ],
   "source": [
    "x = int(input(\"Enter a number: \"))\n",
    "\n",
    "factorial = 1\n",
    "\n",
    "if x < 0:\n",
    "   print(\"Sorry, factorial does not exist for negative numbers\")\n",
    "elif x == 0:\n",
    "   print(\"The factorial of 0 is 1\")\n",
    "else:\n",
    "   for i in range(1,x + 1):\n",
    "       factorial = factorial*i\n",
    "   print(\"The factorial of\",x,\"is\",factorial)"
   ]
  },
  {
   "cell_type": "markdown",
   "id": "e450e259",
   "metadata": {},
   "source": [
    "### 2.\tWrite a Python Program to Display the multiplication Table?\n"
   ]
  },
  {
   "cell_type": "code",
   "execution_count": 6,
   "id": "1fee73a6",
   "metadata": {},
   "outputs": [
    {
     "name": "stdout",
     "output_type": "stream",
     "text": [
      "Enter a number: 8\n",
      "Multiplication table for  8 :\n",
      "8 * 1 = 8\n",
      "8 * 2 = 16\n",
      "8 * 3 = 24\n",
      "8 * 4 = 32\n",
      "8 * 5 = 40\n",
      "8 * 6 = 48\n",
      "8 * 7 = 56\n",
      "8 * 8 = 64\n",
      "8 * 9 = 72\n",
      "8 * 10 = 80\n"
     ]
    }
   ],
   "source": [
    "x= int(input(\"Enter a number: \"))\n",
    "print(\"Multiplication table for \",x,\":\")\n",
    "\n",
    "for i in range(1,11):\n",
    "    print(x, \"*\",i, \"=\",x*i)"
   ]
  },
  {
   "cell_type": "markdown",
   "id": "6b3add48",
   "metadata": {},
   "source": [
    "### 3.\tWrite a Python Program to Print the Fibonacci sequence?\n"
   ]
  },
  {
   "cell_type": "code",
   "execution_count": 8,
   "id": "04ba68dc",
   "metadata": {},
   "outputs": [
    {
     "name": "stdout",
     "output_type": "stream",
     "text": [
      "How many terms? 5\n",
      "Fibonacci sequence:\n",
      "0\n",
      "1\n",
      "1\n",
      "2\n",
      "3\n"
     ]
    }
   ],
   "source": [
    "n = int(input(\"How many terms? \"))\n",
    "\n",
    "n1, n2 = 0, 1\n",
    "count = 0\n",
    "\n",
    "if n <= 0:\n",
    "   print(\"Enter a positive integer\")\n",
    "\n",
    "elif n == 1:\n",
    "   print(\"Fibonacci sequence upto\",n,\":\")\n",
    "   print(n1)\n",
    "else:\n",
    "   print(\"Fibonacci sequence:\")\n",
    "   while count < n:\n",
    "       print(n1)\n",
    "       nth = n1 + n2\n",
    "       n1 = n2\n",
    "       n2 = nth\n",
    "       count += 1"
   ]
  },
  {
   "cell_type": "markdown",
   "id": "948b5fba",
   "metadata": {},
   "source": [
    "### 4.\tWrite a Python Program to Check Armstrong Number?\n"
   ]
  },
  {
   "cell_type": "code",
   "execution_count": 36,
   "id": "8a972384",
   "metadata": {},
   "outputs": [
    {
     "name": "stdout",
     "output_type": "stream",
     "text": [
      " Enter a number371\n",
      "371  is an Armstrong Number\n"
     ]
    }
   ],
   "source": [
    "n = int(input(\" Enter a number\"))\n",
    "temp = n\n",
    "total_sum = 0\n",
    "\n",
    "while n>0:\n",
    "    r = n%10\n",
    "    rem = int(r)\n",
    "    total_sum = total_sum +(rem*rem*rem)\n",
    "    n= n/10\n",
    "if(temp == total_sum):\n",
    "   print(temp, \" is an Armstrong Number\")\n",
    "else:\n",
    "    print(temp,\" is not an Armstrong Number\")"
   ]
  },
  {
   "cell_type": "markdown",
   "id": "d33995aa",
   "metadata": {},
   "source": [
    "### 5.\tWrite a Python Program to Find Armstrong Number in an Interval?\n"
   ]
  },
  {
   "cell_type": "code",
   "execution_count": 37,
   "id": "b93c34e1",
   "metadata": {},
   "outputs": [
    {
     "name": "stdout",
     "output_type": "stream",
     "text": [
      "Enter lower limit  of the range: 1\n",
      "Enter upper limit  of the range: 1000\n",
      "1\n",
      "153\n",
      "370\n",
      "371\n",
      "407\n"
     ]
    }
   ],
   "source": [
    "lower_limit = int(input(\"Enter lower limit  of the range: \"))\n",
    "upper_limit = int(input(\"Enter upper limit  of the range: \"))\n",
    "\n",
    "for n in range(lower_limit,upper_limit + 1):\n",
    "    temp = n\n",
    "    total_sum = 0\n",
    "\n",
    "    while n>0:\n",
    "        r = n%10\n",
    "        rem = int(r)\n",
    "        total_sum = total_sum +(rem*rem*rem)\n",
    "        n= n/10\n",
    "    if(temp == total_sum):\n",
    "       print(temp)\n",
    "    else:\n",
    "        continue"
   ]
  },
  {
   "cell_type": "markdown",
   "id": "c7c9d71d",
   "metadata": {},
   "source": [
    "### 6.\tWrite a Python Program to Find the Sum of Natural Numbers?"
   ]
  },
  {
   "cell_type": "code",
   "execution_count": 34,
   "id": "9b6b8df9",
   "metadata": {},
   "outputs": [
    {
     "name": "stdout",
     "output_type": "stream",
     "text": [
      "Enter total number of terms16\n",
      "136.0\n"
     ]
    }
   ],
   "source": [
    "n = int(input(\"Enter total number of terms\"))\n",
    "sum = (n*(n+1))/2\n",
    "print(sum)"
   ]
  }
 ],
 "metadata": {
  "kernelspec": {
   "display_name": "Python 3 (ipykernel)",
   "language": "python",
   "name": "python3"
  },
  "language_info": {
   "codemirror_mode": {
    "name": "ipython",
    "version": 3
   },
   "file_extension": ".py",
   "mimetype": "text/x-python",
   "name": "python",
   "nbconvert_exporter": "python",
   "pygments_lexer": "ipython3",
   "version": "3.8.8"
  }
 },
 "nbformat": 4,
 "nbformat_minor": 5
}
