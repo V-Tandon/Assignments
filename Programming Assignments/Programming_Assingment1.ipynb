{
 "cells": [
  {
   "cell_type": "markdown",
   "id": "20026b12",
   "metadata": {},
   "source": [
    "# Programming Assignmet 1"
   ]
  },
  {
   "cell_type": "markdown",
   "id": "3a297ef8",
   "metadata": {},
   "source": [
    "### 1.\tWrite a Python program to print \"Hello Python\"?"
   ]
  },
  {
   "cell_type": "code",
   "execution_count": 1,
   "id": "b4d14578",
   "metadata": {},
   "outputs": [
    {
     "name": "stdout",
     "output_type": "stream",
     "text": [
      "Hello Python\n"
     ]
    }
   ],
   "source": [
    "print(\"Hello Python\")"
   ]
  },
  {
   "cell_type": "markdown",
   "id": "b205efb2",
   "metadata": {},
   "source": [
    "### 2.\tWrite a Python program to do arithmetical operations addition and division.?"
   ]
  },
  {
   "cell_type": "code",
   "execution_count": 7,
   "id": "213f1b87",
   "metadata": {},
   "outputs": [
    {
     "name": "stdout",
     "output_type": "stream",
     "text": [
      "Addition of a and b:  12  and a divided by b: 5\n"
     ]
    }
   ],
   "source": [
    "a = 10\n",
    "b= 2\n",
    "x = a+b\n",
    "y = int(a/b)\n",
    "print(\"Addition of a and b: \",x, \" and a divided by b:\",y)"
   ]
  },
  {
   "cell_type": "markdown",
   "id": "a376d502",
   "metadata": {},
   "source": [
    "### 3.\tWrite a Python program to find the area of a triangle?"
   ]
  },
  {
   "cell_type": "code",
   "execution_count": 18,
   "id": "e6662612",
   "metadata": {},
   "outputs": [
    {
     "name": "stdout",
     "output_type": "stream",
     "text": [
      "Enter first side of the triangle: 5\n",
      "Enter second side: 6\n",
      "Enter third side: 7\n",
      "14.696938456699069\n"
     ]
    }
   ],
   "source": [
    "import math\n",
    "\n",
    "x = int(input(\"Enter first side of the triangle: \"))\n",
    "y = int(input(\"Enter second side: \"))\n",
    "z = int(input(\"Enter third side: \"))\n",
    "\n",
    "s = (x+y+z)/2\n",
    "\n",
    "area = math.sqrt((s*(s-x)*(s-y)*(s-z))) \n",
    "print(area)"
   ]
  },
  {
   "cell_type": "markdown",
   "id": "127142bc",
   "metadata": {},
   "source": [
    "### 4.\tWrite a Python program to swap two variables"
   ]
  },
  {
   "cell_type": "code",
   "execution_count": 20,
   "id": "a002ee2e",
   "metadata": {},
   "outputs": [
    {
     "name": "stdout",
     "output_type": "stream",
     "text": [
      "Enter value of x: 12\n",
      "Enter value of y: 200\n",
      "x after swapping:  200\n",
      "y after swapping:  12\n"
     ]
    }
   ],
   "source": [
    "x = int(input(\"Enter value of x: \"))\n",
    "y = int(input(\"Enter value of y: \"))\n",
    "\n",
    "x, y = y, x\n",
    "print(\"x after swapping: \", x)\n",
    "print(\"y after swapping: \", y)"
   ]
  },
  {
   "cell_type": "markdown",
   "id": "c85d19d9",
   "metadata": {},
   "source": [
    "### 5.\tWrite a Python program to generate a random number"
   ]
  },
  {
   "cell_type": "code",
   "execution_count": 26,
   "id": "5c2e6f68",
   "metadata": {},
   "outputs": [
    {
     "name": "stdout",
     "output_type": "stream",
     "text": [
      "58\n"
     ]
    }
   ],
   "source": [
    "#Generating a random number between 0 and 100\n",
    "\n",
    "import random\n",
    "\n",
    "print(random.randint(0,100))"
   ]
  }
 ],
 "metadata": {
  "kernelspec": {
   "display_name": "Python 3 (ipykernel)",
   "language": "python",
   "name": "python3"
  },
  "language_info": {
   "codemirror_mode": {
    "name": "ipython",
    "version": 3
   },
   "file_extension": ".py",
   "mimetype": "text/x-python",
   "name": "python",
   "nbconvert_exporter": "python",
   "pygments_lexer": "ipython3",
   "version": "3.8.8"
  }
 },
 "nbformat": 4,
 "nbformat_minor": 5
}
