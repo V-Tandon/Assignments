{
 "cells": [
  {
   "cell_type": "markdown",
   "id": "b12b9543",
   "metadata": {},
   "source": [
    "## Programming Assignment 5"
   ]
  },
  {
   "cell_type": "markdown",
   "id": "f8a05829",
   "metadata": {},
   "source": [
    "### 1.\tWrite a Python Program to Find LCM"
   ]
  },
  {
   "cell_type": "code",
   "execution_count": 3,
   "id": "f7226397",
   "metadata": {},
   "outputs": [
    {
     "name": "stdout",
     "output_type": "stream",
     "text": [
      "Enter first number: 4\n",
      "Enter second number: 6\n",
      "12\n"
     ]
    }
   ],
   "source": [
    "x =int(input(\"Enter first number: \"))\n",
    "y = int(input(\"Enter second number: \"))\n",
    "if x>y:\n",
    "    greater = x\n",
    "else:\n",
    "    greater = y\n",
    "while(True):\n",
    "    if ((greater%x == 0) and (greater%y == 0)):\n",
    "        lcm = greater\n",
    "        break\n",
    "    greater = greater +1\n",
    "print(lcm)"
   ]
  },
  {
   "cell_type": "markdown",
   "id": "1310a129",
   "metadata": {},
   "source": [
    "### 2.\tWrite a Python Program to Find HCF"
   ]
  },
  {
   "cell_type": "code",
   "execution_count": 6,
   "id": "119bd3e9",
   "metadata": {},
   "outputs": [
    {
     "name": "stdout",
     "output_type": "stream",
     "text": [
      "Enter first number: 20\n",
      "Enter second number: 12\n",
      "4\n"
     ]
    }
   ],
   "source": [
    "x =int(input(\"Enter first number: \"))\n",
    "y = int(input(\"Enter second number: \"))\n",
    "if x>y:\n",
    "    smaller = y\n",
    "else:\n",
    "    smaller = x\n",
    "for i in range(1, smaller+1):\n",
    "    if ((x%i == 0) and (y%i == 0)):\n",
    "        hcf = i\n",
    "print(hcf)"
   ]
  },
  {
   "cell_type": "markdown",
   "id": "5ce8decc",
   "metadata": {},
   "source": [
    "### 3.\tWrite a Python Program to Convert Decimal to Binary, Octal and Hexadecimal"
   ]
  },
  {
   "cell_type": "code",
   "execution_count": 7,
   "id": "d40d72c6",
   "metadata": {},
   "outputs": [
    {
     "name": "stdout",
     "output_type": "stream",
     "text": [
      " Enter the Decimal Number: 12\n",
      "The given decimal number 12 in Binary number is:  0b1100\n",
      "The given decimal number 12 in Octal number is:  0o14\n",
      "The given decimal number 12  in Hexadecimal number is:  0xc\n"
     ]
    }
   ],
   "source": [
    "def decimal_into_binary(decimal_1):  \n",
    "    decimal = int(decimal_1)  \n",
    "    print (\"The given decimal number\", decimal, \"in Binary number is: \", bin(decimal))  \n",
    "\n",
    "def decimal_into_octal(decimal_1):  \n",
    "    decimal = int(decimal_1)  \n",
    "    print (\"The given decimal number\", decimal, \"in Octal number is: \", oct(decimal))  \n",
    "\n",
    "def decimal_into_hexadecimal(decimal_1):  \n",
    "    decimal = int(decimal_1)  \n",
    "    print (\"The given decimal number\", decimal, \" in Hexadecimal number is: \", hex(decimal))  \n",
    "    \n",
    "decimal_1 = int (input (\" Enter the Decimal Number: \"))  \n",
    "decimal_into_binary(decimal_1)  \n",
    "decimal_into_octal(decimal_1)  \n",
    "decimal_into_hexadecimal(decimal_1)  "
   ]
  },
  {
   "cell_type": "markdown",
   "id": "3b3ed164",
   "metadata": {},
   "source": [
    "### 4.\tWrite a Python Program To Find ASCII value of a character"
   ]
  },
  {
   "cell_type": "code",
   "execution_count": 11,
   "id": "663827c4",
   "metadata": {},
   "outputs": [
    {
     "name": "stdout",
     "output_type": "stream",
     "text": [
      "Enter a character: a\n",
      "The ASCII value of 'a' is 97\n"
     ]
    }
   ],
   "source": [
    "c = input(\"Enter a character: \")\n",
    "print(\"The ASCII value of '\" + c + \"' is\", ord(c))"
   ]
  },
  {
   "cell_type": "markdown",
   "id": "c837d27c",
   "metadata": {},
   "source": [
    "### 5.\tWrite a Python Program to Make a Simple Calculator with 4 basic mathematical operations"
   ]
  },
  {
   "cell_type": "code",
   "execution_count": 19,
   "id": "a35ea73b",
   "metadata": {},
   "outputs": [
    {
     "name": "stdout",
     "output_type": "stream",
     "text": [
      "Select operation -\n",
      "1. Add\n",
      "2. Subtract\n",
      "3. Multiply\n",
      "4. Divide\n",
      "\n",
      "Select operations from 1, 2, 3, 4 :4\n",
      "Enter first number: 8\n",
      "Enter second number: 80\n",
      "8 / 80 = 0.1\n"
     ]
    }
   ],
   "source": [
    "def add(num1, num2):\n",
    "    return num1 + num2\n",
    " \n",
    "def subtract(num1, num2):\n",
    "    return num1 - num2\n",
    " \n",
    "def multiply(num1, num2):\n",
    "    return num1 * num2\n",
    " \n",
    "def divide(num1, num2):\n",
    "    return num1 / num2\n",
    " \n",
    "print(\"Select operation -\\n\" \\\n",
    "        \"1. Add\\n\" \\\n",
    "        \"2. Subtract\\n\" \\\n",
    "        \"3. Multiply\\n\" \\\n",
    "        \"4. Divide\\n\")\n",
    " \n",
    "    \n",
    "select = int(input(\"Select operations from 1, 2, 3, 4 :\"))\n",
    " \n",
    "number_1 = int(input(\"Enter first number: \"))\n",
    "number_2 = int(input(\"Enter second number: \"))\n",
    " \n",
    "if select == 1:\n",
    "    print(number_1, \"+\", number_2, \"=\",\n",
    "                    add(number_1, number_2))\n",
    "\n",
    "elif select == 2:\n",
    "    print(number_1, \"-\", number_2, \"=\",\n",
    "                    subtract(number_1, number_2))\n",
    "\n",
    "elif select == 3:\n",
    "    print(number_1, \"*\", number_2, \"=\",\n",
    "                    multiply(number_1, number_2))\n",
    "\n",
    "elif select == 4:\n",
    "    print(number_1, \"/\", number_2, \"=\",\n",
    "                    divide(number_1, number_2))\n",
    "else:\n",
    "    print(\"Invalid input\")"
   ]
  }
 ],
 "metadata": {
  "kernelspec": {
   "display_name": "Python 3 (ipykernel)",
   "language": "python",
   "name": "python3"
  },
  "language_info": {
   "codemirror_mode": {
    "name": "ipython",
    "version": 3
   },
   "file_extension": ".py",
   "mimetype": "text/x-python",
   "name": "python",
   "nbconvert_exporter": "python",
   "pygments_lexer": "ipython3",
   "version": "3.8.8"
  }
 },
 "nbformat": 4,
 "nbformat_minor": 5
}
