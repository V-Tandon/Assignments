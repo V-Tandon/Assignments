{
 "cells": [
  {
   "cell_type": "markdown",
   "id": "c119297b",
   "metadata": {},
   "source": [
    "## Programming Assignment 2"
   ]
  },
  {
   "cell_type": "markdown",
   "id": "11047bf7",
   "metadata": {},
   "source": [
    "### 1.\tWrite a Python program to convert kilometers to miles"
   ]
  },
  {
   "cell_type": "code",
   "execution_count": 3,
   "id": "2124f423",
   "metadata": {},
   "outputs": [
    {
     "name": "stdout",
     "output_type": "stream",
     "text": [
      "Enter distaance in kilometers: 6\n",
      "Distance in miles: 3.73\n"
     ]
    }
   ],
   "source": [
    "k = float(input(\"Enter distaance in kilometers: \"))\n",
    "m = k*0.621371\n",
    "print(\"Distance in miles: %0.2f\" %m)"
   ]
  },
  {
   "cell_type": "markdown",
   "id": "d4949bb4",
   "metadata": {},
   "source": [
    "### 2.\tWrite a Python program to convert Celsius to Fahrenheit"
   ]
  },
  {
   "cell_type": "code",
   "execution_count": 10,
   "id": "b29f446c",
   "metadata": {},
   "outputs": [
    {
     "name": "stdout",
     "output_type": "stream",
     "text": [
      "Enter temperature in Celsius: 54\n",
      "temperature in Fahrenheit:: 129.20\n"
     ]
    }
   ],
   "source": [
    "c = float(input(\"Enter temperature in Celsius: \"))\n",
    "f = (c*1.8)+32\n",
    "print(\"temperature in Fahrenheit:: %0.2f\" %f)"
   ]
  },
  {
   "cell_type": "markdown",
   "id": "e04831b2",
   "metadata": {},
   "source": [
    "### 3.\tWrite a Python program to display calendar"
   ]
  },
  {
   "cell_type": "code",
   "execution_count": 11,
   "id": "d7021caa",
   "metadata": {},
   "outputs": [
    {
     "name": "stdout",
     "output_type": "stream",
     "text": [
      "Enter year: 2022\n",
      "Enter month: 11\n",
      "   November 2022\n",
      "Mo Tu We Th Fr Sa Su\n",
      "    1  2  3  4  5  6\n",
      " 7  8  9 10 11 12 13\n",
      "14 15 16 17 18 19 20\n",
      "21 22 23 24 25 26 27\n",
      "28 29 30\n",
      "\n"
     ]
    }
   ],
   "source": [
    "import calendar\n",
    "\n",
    "#yy = 2022  \n",
    "#mm = 11    \n",
    "yy = int(input(\"Enter year: \"))\n",
    "mm = int(input(\"Enter month: \"))\n",
    "\n",
    "print(calendar.month(yy, mm))"
   ]
  },
  {
   "cell_type": "markdown",
   "id": "95097e23",
   "metadata": {},
   "source": [
    "### 4.\tWrite a Python program to solve quadratic equation"
   ]
  },
  {
   "cell_type": "code",
   "execution_count": 12,
   "id": "71513d90",
   "metadata": {},
   "outputs": [
    {
     "name": "stdout",
     "output_type": "stream",
     "text": [
      "The solution are (-3+0j) and (-2+0j)\n"
     ]
    }
   ],
   "source": [
    "# complex math module\n",
    "import cmath\n",
    "\n",
    "a = 1\n",
    "b = 5\n",
    "c = 6\n",
    "\n",
    "# calculate the discriminant\n",
    "d = (b**2) - (4*a*c)\n",
    "\n",
    "# find two solutions\n",
    "sol1 = (-b-cmath.sqrt(d))/(2*a)\n",
    "sol2 = (-b+cmath.sqrt(d))/(2*a)\n",
    "\n",
    "print('The solution are {0} and {1}'.format(sol1,sol2))"
   ]
  },
  {
   "cell_type": "markdown",
   "id": "c1488443",
   "metadata": {},
   "source": [
    "### 5.\tWrite a Python program to swap two variables without temp variable"
   ]
  },
  {
   "cell_type": "code",
   "execution_count": 14,
   "id": "2a544c3e",
   "metadata": {},
   "outputs": [
    {
     "name": "stdout",
     "output_type": "stream",
     "text": [
      "Enter value of a: 9\n",
      "Enter value of b: 10\n",
      "Vaue of a after swapping:  10\n",
      "Value of b after swapping:  9\n"
     ]
    }
   ],
   "source": [
    "x = 5\n",
    "y = 10\n",
    "a = int(input(\"Enter value of a: \"))\n",
    "b = int(input(\"Enter value of b: \"))\n",
    "\n",
    "a, b = b, a\n",
    "print(\"Vaue of a after swapping: \", a)\n",
    "print(\"Value of b after swapping: \", b)"
   ]
  }
 ],
 "metadata": {
  "kernelspec": {
   "display_name": "Python 3 (ipykernel)",
   "language": "python",
   "name": "python3"
  },
  "language_info": {
   "codemirror_mode": {
    "name": "ipython",
    "version": 3
   },
   "file_extension": ".py",
   "mimetype": "text/x-python",
   "name": "python",
   "nbconvert_exporter": "python",
   "pygments_lexer": "ipython3",
   "version": "3.8.8"
  }
 },
 "nbformat": 4,
 "nbformat_minor": 5
}
